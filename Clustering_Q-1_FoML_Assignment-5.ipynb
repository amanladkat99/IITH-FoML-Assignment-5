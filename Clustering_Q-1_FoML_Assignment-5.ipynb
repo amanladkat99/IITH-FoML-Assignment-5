{
 "cells": [
  {
   "cell_type": "code",
   "execution_count": 46,
   "id": "2ba7fccf",
   "metadata": {},
   "outputs": [],
   "source": [
    "import pandas as pd\n",
    "import numpy as np\n",
    "import matplotlib.pyplot as plt"
   ]
  },
  {
   "cell_type": "code",
   "execution_count": 47,
   "id": "7cbfafac",
   "metadata": {},
   "outputs": [
    {
     "data": {
      "text/html": [
       "<div>\n",
       "<style scoped>\n",
       "    .dataframe tbody tr th:only-of-type {\n",
       "        vertical-align: middle;\n",
       "    }\n",
       "\n",
       "    .dataframe tbody tr th {\n",
       "        vertical-align: top;\n",
       "    }\n",
       "\n",
       "    .dataframe thead th {\n",
       "        text-align: right;\n",
       "    }\n",
       "</style>\n",
       "<table border=\"1\" class=\"dataframe\">\n",
       "  <thead>\n",
       "    <tr style=\"text-align: right;\">\n",
       "      <th></th>\n",
       "      <th>0</th>\n",
       "      <th>1</th>\n",
       "    </tr>\n",
       "  </thead>\n",
       "  <tbody>\n",
       "    <tr>\n",
       "      <th>0</th>\n",
       "      <td>1.489034</td>\n",
       "      <td>-0.372265</td>\n",
       "    </tr>\n",
       "    <tr>\n",
       "      <th>1</th>\n",
       "      <td>-0.993560</td>\n",
       "      <td>0.113308</td>\n",
       "    </tr>\n",
       "    <tr>\n",
       "      <th>2</th>\n",
       "      <td>1.375386</td>\n",
       "      <td>-0.426868</td>\n",
       "    </tr>\n",
       "    <tr>\n",
       "      <th>3</th>\n",
       "      <td>-0.856408</td>\n",
       "      <td>0.516299</td>\n",
       "    </tr>\n",
       "    <tr>\n",
       "      <th>4</th>\n",
       "      <td>0.446398</td>\n",
       "      <td>-0.332782</td>\n",
       "    </tr>\n",
       "  </tbody>\n",
       "</table>\n",
       "</div>"
      ],
      "text/plain": [
       "          0         1\n",
       "0  1.489034 -0.372265\n",
       "1 -0.993560  0.113308\n",
       "2  1.375386 -0.426868\n",
       "3 -0.856408  0.516299\n",
       "4  0.446398 -0.332782"
      ]
     },
     "execution_count": 47,
     "metadata": {},
     "output_type": "execute_result"
    }
   ],
   "source": [
    "training_data = pd.read_csv('D:\\MTECH\\Sem-1\\Foundations of ML\\dataset1.txt',header=None, sep=' ')\n",
    "training_data.head()"
   ]
  },
  {
   "cell_type": "code",
   "execution_count": 48,
   "id": "598d2703",
   "metadata": {},
   "outputs": [],
   "source": [
    "pts = training_data.values\n",
    "X = training_data[0]\n",
    "Y = training_data[1]"
   ]
  },
  {
   "cell_type": "code",
   "execution_count": 49,
   "id": "fbc49236",
   "metadata": {},
   "outputs": [
    {
     "data": {
      "text/plain": [
       "500"
      ]
     },
     "execution_count": 49,
     "metadata": {},
     "output_type": "execute_result"
    }
   ],
   "source": [
    "len(training_data)"
   ]
  },
  {
   "cell_type": "markdown",
   "id": "714ee04e",
   "metadata": {},
   "source": [
    "# (a)  K-means clustering algorithm "
   ]
  },
  {
   "cell_type": "code",
   "execution_count": 50,
   "id": "ac46cf11",
   "metadata": {},
   "outputs": [],
   "source": [
    "from sklearn.cluster import KMeans\n",
    "kmeans = KMeans().fit(pts)"
   ]
  },
  {
   "cell_type": "code",
   "execution_count": 51,
   "id": "8c0be1b5",
   "metadata": {},
   "outputs": [
    {
     "data": {
      "text/plain": [
       "<matplotlib.collections.PathCollection at 0x2b3f9cbc580>"
      ]
     },
     "execution_count": 51,
     "metadata": {},
     "output_type": "execute_result"
    },
    {
     "data": {
      "image/png": "[encoded data removed]",
      "text/plain": [
       "<Figure size 432x288 with 1 Axes>"
      ]
     },
     "metadata": {
      "needs_background": "light"
     },
     "output_type": "display_data"
    }
   ],
   "source": [
    "plt.scatter(X,Y,c=kmeans.labels_.astype(float))"
   ]
  },
  {
   "cell_type": "markdown",
   "id": "f20196ac",
   "metadata": {},
   "source": [
    "# (b) DBSCAN Algorithm"
   ]
  },
  {
   "cell_type": "code",
   "execution_count": 52,
   "id": "36890904",
   "metadata": {},
   "outputs": [],
   "source": [
    "def neighbour_points(data, epsilon, pointID):\n",
    "    points=[]\n",
    "    for i in range(data.shape[0]):\n",
    "        distance = np.linalg.norm(pointID-data[i])\n",
    "        if distance<=epsilon and distance>0:\n",
    "            points.append(i)\n",
    "    return points"
   ]
  },
  {
   "cell_type": "code",
   "execution_count": 53,
   "id": "3055d54b",
   "metadata": {},
   "outputs": [],
   "source": [
    "def Cluster(temp, is_visited, MinPts, epsilon, count, cluster, visited_index, data):\n",
    "    is_visited[visited_index] = 1 \n",
    "    if cluster[visited_index] == -1:\n",
    "        if len(temp)>=MinPts:\n",
    "            cluster[visited_index]= count \n",
    "            for i in temp:\n",
    "                pointID = data[i]\n",
    "                neighbourhood= neighbour_points(data,epsilon,pointID)\n",
    "                if is_visited[i]==0:\n",
    "                    Cluster(neighbourhood, is_visited,MinPts,epsilon,count,cluster,i,data)\n",
    "        elif len(temp)<MinPts:\n",
    "            cluster[visited_index]= 0 "
   ]
  },
  {
   "cell_type": "code",
   "execution_count": 54,
   "id": "29cccd01",
   "metadata": {},
   "outputs": [],
   "source": [
    "def DBScan(data,epsilon,MinPts):\n",
    "    is_visited=[0]*(pts.shape[0])\n",
    "    cluster=[-1]*(pts.shape[0])\n",
    "    count=0\n",
    "    while 0 in is_visited:\n",
    "        print(\"Clusters : \")\n",
    "        if count in cluster or count==0 :\n",
    "            count+=1\n",
    "        visited_index = is_visited.index(0)\n",
    "        print(\"Visited Node is : \",visited_index)\n",
    "        pointID = data[visited_index]\n",
    "        temp = neighbour_points(data,epsilon,pointID)\n",
    "        print(\"Number of points in the Neighbourhood are : \",len(temp))\n",
    "        Cluster(temp, is_visited,MinPts,epsilon,count,cluster,visited_index,data)    \n",
    "    return cluster"
   ]
  },
  {
   "cell_type": "code",
   "execution_count": 55,
   "id": "be257774",
   "metadata": {},
   "outputs": [
    {
     "data": {
      "text/plain": [
       "[<matplotlib.lines.Line2D at 0x2b3f9d1bbb0>]"
      ]
     },
     "execution_count": 55,
     "metadata": {},
     "output_type": "execute_result"
    },
    {
     "data": {
      "image/png": "[encoded data removed]",
      "text/plain": [
       "<Figure size 432x288 with 1 Axes>"
      ]
     },
     "metadata": {
      "needs_background": "light"
     },
     "output_type": "display_data"
    }
   ],
   "source": [
    "# Elbow Method \n",
    "y_distance=[]\n",
    "for i in range(pts.shape[0]):\n",
    "    cal_distance=[]\n",
    "    pointID = pts[i]\n",
    "    for j in range(pts.shape[0]):\n",
    "        dist = np.linalg.norm(pointID-pts[j])\n",
    "        if dist>0:\n",
    "            cal_distance.append(dist)\n",
    "    cal_distance.sort()\n",
    "    k_dist = cal_distance[20] \n",
    "    y_distance.append(k_dist)\n",
    "x_axis = [x for x in range(len(training_data))]\n",
    "y_axis = np.sort(y_distance)\n",
    "plt.plot(x_axis,y_axis)"
   ]
  },
  {
   "cell_type": "code",
   "execution_count": 56,
   "id": "63febda9",
   "metadata": {},
   "outputs": [
    {
     "name": "stdout",
     "output_type": "stream",
     "text": [
      "Clusters : \n",
      "Visited Node is :  0\n",
      "Number of points in the Neighbourhood are :  80\n",
      "Clusters : \n",
      "Visited Node is :  1\n",
      "Number of points in the Neighbourhood are :  49\n"
     ]
    }
   ],
   "source": [
    "cluster_map = DBScan(points,0.5,20)"
   ]
  },
  {
   "cell_type": "code",
   "execution_count": 57,
   "id": "4b28cf23",
   "metadata": {},
   "outputs": [
    {
     "data": {
      "text/plain": [
       "<matplotlib.collections.PathCollection at 0x2b3f9d71640>"
      ]
     },
     "execution_count": 57,
     "metadata": {},
     "output_type": "execute_result"
    },
    {
     "data": {
      "image/png": "[encoded data removed]",
      "text/plain": [
       "<Figure size 432x288 with 1 Axes>"
      ]
     },
     "metadata": {
      "needs_background": "light"
     },
     "output_type": "display_data"
    }
   ],
   "source": [
    "plt.scatter(X,Y,c=cluster_map)"
   ]
  },
  {
   "cell_type": "markdown",
   "id": "bce6261b",
   "metadata": {},
   "source": [
    "# (c) What differences do you see between the DBSCAN and k-means methods, and why?"
   ]
  },
  {
   "cell_type": "markdown",
   "id": "c201b272",
   "metadata": {},
   "source": [
    "KMeans is much faster than DBScan algorithm. K-means Clustering is more efficient for large datasets, whereas DBSCan can not efficiently handle high dimensional datasets. DBScan doesn’t need number of clusters to be specified, while K-means need to specify the number of clusters hidden in the dataset. K-means Clustering does not work well with outliers and noisy datasets, but DBScan clustering efficiently handles them."
   ]
  },
  {
   "cell_type": "markdown",
   "id": "89de0107",
   "metadata": {},
   "source": [
    "# (d) Operations on Dataset-2"
   ]
  },
  {
   "cell_type": "code",
   "execution_count": 64,
   "id": "307682df",
   "metadata": {},
   "outputs": [],
   "source": [
    "dataset2 = pd.read_csv('D:\\MTECH\\Sem-1\\Foundations of ML\\dataset2.txt',header=None, sep=' ')"
   ]
  },
  {
   "cell_type": "code",
   "execution_count": 65,
   "id": "96eac0a4",
   "metadata": {},
   "outputs": [
    {
     "data": {
      "text/html": [
       "<div>\n",
       "<style scoped>\n",
       "    .dataframe tbody tr th:only-of-type {\n",
       "        vertical-align: middle;\n",
       "    }\n",
       "\n",
       "    .dataframe tbody tr th {\n",
       "        vertical-align: top;\n",
       "    }\n",
       "\n",
       "    .dataframe thead th {\n",
       "        text-align: right;\n",
       "    }\n",
       "</style>\n",
       "<table border=\"1\" class=\"dataframe\">\n",
       "  <thead>\n",
       "    <tr style=\"text-align: right;\">\n",
       "      <th></th>\n",
       "      <th>0</th>\n",
       "      <th>1</th>\n",
       "    </tr>\n",
       "  </thead>\n",
       "  <tbody>\n",
       "    <tr>\n",
       "      <th>0</th>\n",
       "      <td>9.359071</td>\n",
       "      <td>0.337273</td>\n",
       "    </tr>\n",
       "    <tr>\n",
       "      <th>1</th>\n",
       "      <td>-1.136104</td>\n",
       "      <td>4.229264</td>\n",
       "    </tr>\n",
       "    <tr>\n",
       "      <th>2</th>\n",
       "      <td>-1.818084</td>\n",
       "      <td>4.651985</td>\n",
       "    </tr>\n",
       "    <tr>\n",
       "      <th>3</th>\n",
       "      <td>-8.952252</td>\n",
       "      <td>5.983762</td>\n",
       "    </tr>\n",
       "    <tr>\n",
       "      <th>4</th>\n",
       "      <td>-6.636040</td>\n",
       "      <td>5.606801</td>\n",
       "    </tr>\n",
       "  </tbody>\n",
       "</table>\n",
       "</div>"
      ],
      "text/plain": [
       "          0         1\n",
       "0  9.359071  0.337273\n",
       "1 -1.136104  4.229264\n",
       "2 -1.818084  4.651985\n",
       "3 -8.952252  5.983762\n",
       "4 -6.636040  5.606801"
      ]
     },
     "execution_count": 65,
     "metadata": {},
     "output_type": "execute_result"
    }
   ],
   "source": [
    "dataset2.head()"
   ]
  },
  {
   "cell_type": "code",
   "execution_count": 66,
   "id": "5c176d00",
   "metadata": {},
   "outputs": [],
   "source": [
    "pts2= dataset2.values\n",
    "X_2 = dataset2[0]\n",
    "Y_2= dataset2[1]"
   ]
  },
  {
   "cell_type": "code",
   "execution_count": 67,
   "id": "17d898c2",
   "metadata": {},
   "outputs": [
    {
     "data": {
      "text/plain": [
       "500"
      ]
     },
     "execution_count": 67,
     "metadata": {},
     "output_type": "execute_result"
    }
   ],
   "source": [
    "len(dataset2)"
   ]
  },
  {
   "cell_type": "code",
   "execution_count": 68,
   "id": "f994c027",
   "metadata": {},
   "outputs": [],
   "source": [
    "kmeans2 = KMeans(n_clusters=3, random_state=0).fit(pts2)"
   ]
  },
  {
   "cell_type": "code",
   "execution_count": 69,
   "id": "b101b90f",
   "metadata": {},
   "outputs": [
    {
     "data": {
      "text/plain": [
       "<matplotlib.collections.PathCollection at 0x2b3f9e2c9d0>"
      ]
     },
     "execution_count": 69,
     "metadata": {},
     "output_type": "execute_result"
    },
    {
     "data": {
      "image/png": "[encoded data removed]",
      "text/plain": [
       "<Figure size 432x288 with 1 Axes>"
      ]
     },
     "metadata": {
      "needs_background": "light"
     },
     "output_type": "display_data"
    }
   ],
   "source": [
    "plt.scatter(X_2,Y_2, c=kmeans2.labels_.astype(float))"
   ]
  },
  {
   "cell_type": "code",
   "execution_count": 71,
   "id": "46552d06",
   "metadata": {},
   "outputs": [
    {
     "data": {
      "text/plain": [
       "[<matplotlib.lines.Line2D at 0x2b3f9ef0400>]"
      ]
     },
     "execution_count": 71,
     "metadata": {},
     "output_type": "execute_result"
    },
    {
     "data": {
      "image/png": "[encoded data removed]",
      "text/plain": [
       "<Figure size 432x288 with 1 Axes>"
      ]
     },
     "metadata": {
      "needs_background": "light"
     },
     "output_type": "display_data"
    }
   ],
   "source": [
    "# Elbow Method \n",
    "y_distance=[]\n",
    "for i in range(pts2.shape[0]):\n",
    "    cal_distance=[]\n",
    "    pointID = pts2[i]\n",
    "    for j in range(pts2.shape[0]):\n",
    "        dist = np.linalg.norm(pointID-pts2[j])\n",
    "        if dist>0:\n",
    "            cal_distance.append(dist)\n",
    "    cal_distance.sort()\n",
    "    k_dist = cal_distance[2] \n",
    "    y_distance.append(k_dist)\n",
    "x_axis = [x for x in range(len(dataset2))]\n",
    "y_axis = np.sort(y_distance)\n",
    "plt.plot(x_axis,y_axis)"
   ]
  },
  {
   "cell_type": "code",
   "execution_count": 82,
   "id": "9194906e",
   "metadata": {},
   "outputs": [
    {
     "name": "stdout",
     "output_type": "stream",
     "text": [
      "Clusters : \n",
      "Visited Node is :  0\n",
      "Number of points in the Neighbourhood are :  72\n",
      "Clusters : \n",
      "Visited Node is :  1\n",
      "Number of points in the Neighbourhood are :  58\n",
      "Clusters : \n",
      "Visited Node is :  3\n",
      "Number of points in the Neighbourhood are :  53\n",
      "Clusters : \n",
      "Visited Node is :  5\n",
      "Number of points in the Neighbourhood are :  2\n",
      "Clusters : \n",
      "Visited Node is :  57\n",
      "Number of points in the Neighbourhood are :  3\n",
      "Clusters : \n",
      "Visited Node is :  79\n",
      "Number of points in the Neighbourhood are :  0\n",
      "Clusters : \n",
      "Visited Node is :  82\n",
      "Number of points in the Neighbourhood are :  2\n",
      "Clusters : \n",
      "Visited Node is :  199\n",
      "Number of points in the Neighbourhood are :  0\n",
      "Clusters : \n",
      "Visited Node is :  246\n",
      "Number of points in the Neighbourhood are :  4\n",
      "Clusters : \n",
      "Visited Node is :  290\n",
      "Number of points in the Neighbourhood are :  1\n",
      "Clusters : \n",
      "Visited Node is :  295\n",
      "Number of points in the Neighbourhood are :  0\n",
      "Clusters : \n",
      "Visited Node is :  347\n",
      "Number of points in the Neighbourhood are :  0\n",
      "Clusters : \n",
      "Visited Node is :  400\n",
      "Number of points in the Neighbourhood are :  0\n",
      "Clusters : \n",
      "Visited Node is :  461\n",
      "Number of points in the Neighbourhood are :  3\n",
      "Clusters : \n",
      "Visited Node is :  495\n",
      "Number of points in the Neighbourhood are :  0\n",
      "Clusters : \n",
      "Visited Node is :  496\n",
      "Number of points in the Neighbourhood are :  0\n",
      "Clusters : \n",
      "Visited Node is :  497\n",
      "Number of points in the Neighbourhood are :  0\n",
      "Clusters : \n",
      "Visited Node is :  498\n",
      "Number of points in the Neighbourhood are :  0\n",
      "Clusters : \n",
      "Visited Node is :  499\n",
      "Number of points in the Neighbourhood are :  0\n"
     ]
    }
   ],
   "source": [
    "cluster_map=DBScan(pts2,1,20)"
   ]
  },
  {
   "cell_type": "code",
   "execution_count": 83,
   "id": "52d6fae3",
   "metadata": {},
   "outputs": [
    {
     "data": {
      "text/plain": [
       "<matplotlib.collections.PathCollection at 0x2b3fb093e20>"
      ]
     },
     "execution_count": 83,
     "metadata": {},
     "output_type": "execute_result"
    },
    {
     "data": {
      "image/png": "[encoded data removed]",
      "text/plain": [
       "<Figure size 432x288 with 1 Axes>"
      ]
     },
     "metadata": {
      "needs_background": "light"
     },
     "output_type": "display_data"
    }
   ],
   "source": [
    "plt.scatter(X_2,Y_2,c=cluster_map,cmap='rainbow')"
   ]
  },
  {
   "cell_type": "markdown",
   "id": "f2eeb47f",
   "metadata": {},
   "source": [
    "Advantages of K-Means :\n",
    "1. It is easy to implement.\n",
    "2. It can handle large datasets well.\n",
    "\n",
    "Disadvantages of K-Means :\n",
    "1. It does not work well with outliers.\n",
    "2. K-means clustering is sensitive to the number of clusters specified."
   ]
  },
  {
   "cell_type": "markdown",
   "id": "66bbcaa9",
   "metadata": {},
   "source": [
    "Advantages of DBSCAN :\n",
    "1. It can handle outliers easily.\n",
    "2. It works well for noisy datasets.\n",
    "3. Number of clusters need not be specified.\n",
    "\n",
    "Disadvantages of DBSCAN :\n",
    "1. DBSCan clustering can not efficiently handle high dimensional datasets.\n",
    "2. It does not work very well for sparse datasets or datasets with varying density.\n",
    "3. It is very sensitive to EPS and MinPts parameters."
   ]
  },
  {
   "cell_type": "code",
   "execution_count": null,
   "id": "816e7543",
   "metadata": {},
   "outputs": [],
   "source": []
  }
 ],
 "metadata": {
  "kernelspec": {
   "display_name": "Python 3",
   "language": "python",
   "name": "python3"
  },
  "language_info": {
   "codemirror_mode": {
    "name": "ipython",
    "version": 3
   },
   "file_extension": ".py",
   "mimetype": "text/x-python",
   "name": "python",
   "nbconvert_exporter": "python",
   "pygments_lexer": "ipython3",
   "version": "3.8.8"
  }
 },
 "nbformat": 4,
 "nbformat_minor": 5
}
